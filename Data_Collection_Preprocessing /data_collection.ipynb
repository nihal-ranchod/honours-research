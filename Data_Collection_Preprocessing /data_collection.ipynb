{
 "cells": [
  {
   "cell_type": "markdown",
   "metadata": {},
   "source": [
    "# Data Collection and Preprocessing\n",
    "\n",
    "### Obtaining PGN of past games from players who are rated at expert level or higher using Chess.com API"
   ]
  },
  {
   "cell_type": "code",
   "execution_count": 14,
   "metadata": {},
   "outputs": [],
   "source": [
    "import json\n",
    "import pandas as pd"
   ]
  },
  {
   "cell_type": "markdown",
   "metadata": {},
   "source": [
    "### Using Chess.com API endpoint to get list of usernames of players who are have an Elo rating of an expert level or higher (Titled Players).\n",
    "\n",
    "- Grandmasters (GM): Usually 2500 or higher\n",
    "- International Masters (IM): Usually between 2400 and 2500\n",
    "- FIDE Master (FM): Usually betwenn 2300 and 2400\n",
    "- FIDE Candidate Master (CM)/ National Master: Ususally between 2200 and 2300\n",
    "- Expert / National Candidate Master: Between 2000 and 2200\n"
   ]
  },
  {
   "cell_type": "code",
   "execution_count": 19,
   "metadata": {},
   "outputs": [
    {
     "name": "stdout",
     "output_type": "stream",
     "text": [
      "{'players': ['19andi73', '1b31-0', '1c4_1-0', '1gelm9ister', '2007checkmate', '20ofjuly', '21osakat', '2sks', '2typicalchessplayer', '5sight', 'a3aki', 'aanshnerurkar', 'aaponter', 'abbesali', 'abc_xyz4744', 'abelmat', 'abigailcabezas', 'abinesh12345', 'abrab_64', 'abuhanan', 'acertijo08', 'achalachess', 'acollins05', 'actuary44', 'adchek', 'adnan_habib', 'adreyd', 'adrian-thorsen', 'adrian_g19', 'advancedrook', 'advicecabinet', 'aguscm2018', 'agustin_meza', 'ahmedkandiliii', 'ahmedotaleb', 'ajedrez-facil', 'ajedrez1101', 'ajedrezinteligente', 'akanga001', 'akatsukiloghorizon', 'akhairat', 'akhandbharatkijay', 'akinov-akinseye', 'aklan10n', 'albert_kloc', 'alblooshi_hamad', 'albussevrespotter', 'aldebaran52', 'aldobaral56', 'alejanchess73', 'alejandrobalde', 'alejandrocapanegra', 'alejandropacheco29', 'aleksandar-topalov', 'alexandercs432', 'alexandrehouhou', 'alexjr20', 'alexppixe', 'alex_jose_iraeta', 'alex_yang', 'alfiefischer77', 'algatar2020', 'alisuma', 'alivodicdario', 'almaguerjm', 'aln276', 'alohamora11', 'alphagoosee', 'alphazero-31', 'alu40pink', 'alvarorodriguezavila', 'al_sa_co', 'amadeus17', 'amanjazu', 'amazingalbany', 'ambartsumiantyhran2012', 'aminazinas', 'amithpal', 'amithpal64', 'ammarzooqi', 'amr05mj', 'anadar', 'andrei_skvortsov', 'andrew-fb00', 'andrewdgreen', 'andrey-ivanov2011', 'andrzej', 'anirban_73', 'anonymouschessenjoyer', 'anonymouskiller0101', 'anskam', 'ansko1999', 'ansukam', 'antek_radzimski', 'aot317', 'aplommb', 'apotatointhekitchen', 'aragon', 'aries_joseph', 'arimin1329', 'arlo2024', 'armanghevondyanchess', 'armenianchessplayer9', 'arniechipmunk', 'arrueba', 'artemiki', 'arturocaceres', 'arturoelcrack', 'artyom_chessmate', 'arvids_andrejevs', 'aseel_odeh', 'ash15k', 'ashrafi1988', 'asimali1977', 'askyourdad69', 'aslanov_umid', 'asmp', 'asmund_hammerstad', 'aspiazumarlon2001', 'asterix99', 'asymptotics', 'atlanta99', 'atm622', 'atomicaxis', 'atomicmate123', 'attacks_hurricane', 'austinthomas12345', 'avenakhenjoyer', 'average_guy25', 'average_trans', 'aviksarkershubha', 'avileyshon7', 'awayceiling', 'axelfalke', 'axlbvrr', 'aydusha', 'ayodub', 'ayyemkayastha', 'azde', 'azoulas1', 'a_ccelerator', 'b777w', 'babaloka', 'babujj', 'babyboss31', 'backtothebeginning', 'bad4life', 'badi50', 'bagge89', 'bajna', 'balachess2006', 'balack95', 'baldy', 'ballottiluca', 'balooiwantbelikeyou', 'barath1308', 'barbosean', 'bardur_orn', 'bashiqchess', 'basicbishop', 'batsford', 'battlestargalactica04', 'bendybear', 'benkoni_kid', 'bent_carlsen', 'bergenchessacademy', 'berislav222', 'bernt42', 'bestbytest246', 'beto-betun', 'bibeklama', 'bicicleta', 'bidilluxih', 'bigbites1996', 'big_texan', 'billforster', 'bilosuvenosu06', 'bintang_top', 'biveklama', 'bjorgestrand', 'bkmzzzzz', 'bl4d3runn3r', 'blacknoisestar', 'blacksirius', 'blagorod', 'blazd', 'blg125', 'blindmancrying', 'blitzbullet_bishop', 'blizzard222', 'blunderking1128', 'bmagnum2002', 'bn1462', 'bobbyfischer1508', 'bobbyfisher_1943', 'bobdakow', 'boguszp', 'boracilek', 'boriscx', 'borocotoajua', 'bossche-cm', 'bouzidian', 'bracciolento', 'brahianzevich', 'brandonjiang123456', 'brapa', 'braveasaclown', 'breathechessalways', 'brendan174', 'bringanita', 'britttas', 'brizuelareivis', 'brother_lawrence1614', 'brunomorado', 'brunosten96', 'bryantman2014', 'bteillet', 'buenamor1972', 'bugancal', 'bugbug01052018', 'bugledxn', 'buihuyphuoc', 'bullhouse14', 'burningggice', 'burninggice', 'bursabbsatranc', 'bwert2602', 'c64c64', 'cacriefils1984', 'cadmartin', 'cakeuvdort', 'calmberserk', 'calmdowncalabreso', 'calsamuel', 'campingdirk', 'campochess', 'campomania3', 'canbroccoli', 'candidate_master', 'canka19', 'cannolicchi', 'capablanca_oujda_2021', 'capatilla', 'capibf4', 'capitan-a', 'captainplanet', 'carlos-godoy', 'carlosehc', 'carlosgomezv', 'carlosmoscoso', 'casparov00000', 'caterpiller35', 'catloverpl', 'cchipanga1', 'cfjohansson', 'chalowey97', 'champblair', 'chanchakman', 'charlescandycampbell', 'charly871', 'charodej1', 'cheburashka2013', 'cheer_down', 'cheonsh420', 'cherepov_alexej', 'chess64surfer', 'chessablanca', 'chessamical', 'chessbaerchen', 'chesschronicles123', 'chesscoach4u', 'chesscoachrachel', 'chesscoachtaipei', 'chessculargodofchess', 'chessdemon2019', 'chessfannm', 'chessfighter_2011', 'chessfinity27', 'chessfrois', 'chessgamingpro', 'chesshercules1', 'chesshermar', 'chessjazda', 'chesskalmar', 'chesskingcasa', 'chessknight02', 'chesslh93', 'chessloveyou', 'chessmaster67890123', 'chessmatic242', 'chessmause', 'chessmotives', 'chessnycm', 'chesssg1', 'chesssharkattack', 'chesstar', 'chesstiger64', 'chessuriel', 'chesswalebhau', 'chesswarrior3', 'chesswithakeem', 'chessy222222', 'chess_boricua', 'chess_sharparchitect', 'chezz_masterr', 'chhatturangam', 'chigorin28', 'chika-lily', 'chiuster', 'chosenpr', 'christian_jordan', 'christopher800', 'chuchofrio1', 'chuckphil', 'cienfuegos07', 'cisterciense', 'ciucas1892', 'clayk1ng', 'clubleonchess', 'cluepon', 'cluke86', 'cm-jorgetobar', 'cmbutgood', 'cmdi', 'cmfernandez', 'cmrolchess', 'cmunda', 'cm_fm_im_gm', 'cm_perligero', 'cm_rui', 'coach73', 'cochess777', 'cocosiukas', 'cocovitsch007', 'cocovitschl77', 'codapbg94', 'compactsmg', 'conejoviejo67', 'conformalfunction', 'connected_pawns1901', 'cool64chess', 'copanchess', 'corfuinchess', 'cornelison', 'corpescador', 'corvosfighter', 'crazykillingattack', 'creativity', 'cristianserban1', 'crobliterator', 'cronos96', 'cronos97', 'cross91', 'csabba80', 'cthake', 'cthulhuuu', 'cuajada_zero', 'cuchulin', 'cugimura97', 'cukricek', 'cunning_horse01', 'cuprichanin', 'curacao2', 'currutaco59', 'cyb3rfight3r', 'cyber-alekhine2', 'cybersurfer12', 'cybrog_naruto', 'cyrano-lossi', 'cys9772', 'czar101101101', 'c_k_g', 'd4ismine', 'daaksboy', 'dacf2905', 'dacresdon', 'damai87', 'dangerousclicker', 'dangerouscm', 'danheisman', 'daniel-2003', 'danielshirinyan', 'danieltitichoca', 'daniel_salinas', 'dannylondon', 'danshev16', 'dantesa', 'danylabagrov', 'darian1102', 'darkdefense15', 'darkdefense16', 'darkwhiteknight96', 'dark_lukoje', 'darwizzyd', 'dasatcu', 'dasatcu90', 'data_pillars', 'davidalhesa2007', 'davidhdzsts', 'davidreti', 'david_alex', 'david_atm', 'davigator', 'davitsantryan02', 'davserr65', 'dbanak', 'ddterziev04', 'dealshark', 'deathcounter', 'dedushkakolya', 'deeper44', 'deibittowers', 'denisenko_denis', 'denispopov', 'denniskk', 'derknipser', 'destroyerjohny', 'devil_sun', 'dev_shah2007', 'dewarfd', 'dexter_dyke', 'dhammiko', 'diablanni', 'didenkosergey', 'diegoddios', 'diegomrchess', 'dimonbanan', 'dimoni64', 'dinosaurio_1975', 'dinul', 'disciplinedbrat', 'djokovic74', 'dlp300', 'dmitriizakurdaev', 'dobrivojpopovic', 'doctor_luber', 'dodoucb', 'dolynachess', 'dominator811', 'dominov', 'domithebest', 'donciao', 'donpreuss', 'donwhitenoise', 'dorpato', 'doudou2015', 'dracomaniac', 'dragonwizard02', 'drherbst', 'dries02', 'drkaraoglan', 'drmegalord', 'drn00binator', 'drragnar1', 'drsutek', 'drunkenstiener', 'drzz_17', 'dr_thomas_quilter', 'duloi', 'dvella', 'dyrizone', 'dzilleruelo', 'e4evr', 'ecksdeeeeeeee', 'ecztery', 'edendzung06', 'edgalbraith', 'edgar_karagyozyan', 'eduardarbereshi', 'egorov_pavel', 'egoryakovlev', 'einherjar521', 'ejw06', 'ekgamekhelum', 'el-pansas', 'elbebiber', 'elcala', 'elengajger', 'eleo02', 'elgoat010', 'eliclax', 'elikemattah', 'elizabethcastaneda', 'elmaestro9fy', 'elpatodice', 'eltenedor', 'el_ultimo_pablo', 'endgamedestroyer', 'endr_ball', 'engima32', 'engleska', 'eniolw', 'epicwarrior2015', 'eprudentegcf', 'eptsiberia', 'erdnya15', 'ericli3', 'escher', 'escudito', 'esferocito', 'esilegalrd', 'esooq', 'esteban062000', 'estudiandoajedrezrd', 'etmasterl', 'eugend', 'eurander', 'exchangeab', 'ezanatan', 'fabuloso_es', 'fahmiaac', 'familijatop71', 'fandebobbyfischer', 'fang3416', 'fanl71', 'fariasov', 'fatzl', 'fdpo95', 'feinspitz', 'felix-rose', 'felixto2010', 'ferasensio2024', 'fernando-freire', 'fernandoarauzalonso', 'fernando_offermann', 'ferrufino64', 'fgawkfiv', 'filipluczak05', 'finally_i_won', 'finejupiter', 'fischerkasparow', 'fivestar242', 'fjal', 'flash_bj', 'flawian2008', 'fleminga', 'flintrook', 'flomarechot', 'flutaga', 'fondasmakris', 'forbiddendesire', 'fortitudinous', 'fortizio', 'frankie_badacsonyi', 'frazzi', 'freeeeeeeeeeeeeeeeee', 'freshstart2024', 'friteegg', 'fritz1k', 'fuenfgegenwilly', 'fumeynoel', 'funnyselfmate', 'furius_baco', 'g2_g3', 'gaby_przz', 'gamboajp', 'gameoverbro', 'garfield_pg', 'garicardi', 'garmendiarov', 'garnikn', 'garth_vader', 'gatitodog', 'gauravthegm', 'gazaman_empire', 'gazzan_3000', 'gbk1w1', 'gemarin', 'geordie_derraugh', 'georgpapi', 'ggtroubleshooter', 'giglivillar', 'gilbertohernandezamura', 'giomar27', 'gixfantastix', 'gkaru', 'glenelco', 'gleruste', 'glucolisis04', 'gluestix', 'gm-2024-gm', 'gm3t', 'gmelviro', 'gmpanther1', 'gm_orange', 'goamaster', 'golaiet123', 'goldawn', 'gold_ocean', 'golem2007', 'gonzalezmer', 'gordonzyxu', 'goughfather', 'grabspeter', 'grandmasterbomo1', 'greglebarbare', 'grind2glory', 'grl77', 'grobesk', 'grossboss19', 'grotbchess', 'grouvilleknight', 'gryffindorac8', 'guanchess', 'guernsey1', 'guicar16', 'guillan', 'guillejr', 'gullinburste', 'gusmaster2262', 'guubol', 'guytaf', 'guzeppicm', 'guzman70', 'gwr2024', 'gyulamiryan-koryun', 'h-random', 'hai_rapidgiulesti', 'hakiki_satranc', 'handknit', 'haotang007', 'harald_blatand', 'harddrive54', 'haridaskesavan', 'hariharan_v', 'harrycun', 'hassuji', 'hauptsache_gambit', 'hectorfiori', 'hehu', 'heinichesspy', 'heinza9', 'heisenber_g', 'heligan', 'heliosis11', 'hellenikos', 'helverthernandez', 'heritiana_andria', 'hermanho', 'hernancatelli', 'herowilczek', 'highlawview', 'hikeman2017', 'himallama', 'hipsterchess22', 'hmatyi07', 'hmolvig', 'holimax', 'homealone20', 'hooded_old_man', 'hoplex', 'horus31', 'houseofdurin', 'hprmdrnst', 'hristos03', 'hrvojezagreb', 'hsd2016', 'hsmile', 'ht1010', 'hulk711', 'hummingbird2009', 'hurburt1', 'huskywithahat', 'hyperpylon', 'hypnopsycho', 'iamnotim', 'iancastillo1202', 'iaspet', 'icewizard1', 'icy', 'iecs12', 'iko', 'ilovejokes555', 'ilya2700', 'imbushchess', 'improve_every_day', 'incognizance', 'incredible64', 'inegrepus', 'inertw', 'ingoscarardila', 'insanetraining', 'insatiable27', 'instructorpj', 'interestingprofile', 'ionutdd123', 'iraniancheetah', 'isfsam', 'ishowmoves57', 'islamovqaasim', 'italo-zapata', 'iulian22', 'iunusovnuriddin', 'ivanhoeleo', 'ivanquiroga', 'ivn_2001', 'iyael', 'iztub', 'izuzquiza', 'i_amnotnikhil', 'i_am_a_miracle', 'i_like_kasparov', 'jaackcamel', 'jaap-amesz', 'jacek_ilczuk', 'jacutina22', 'jadeit90', 'jaguar099', 'jah_skido', 'jaivvardhanraj', 'jakuboss22005', 'jamal-jamal-jamal', 'jamaladam12200620', 'jamalm2', 'jamescoleman', 'jan2404', 'jancy7', 'janhelmer03', 'janmur7', 'janumber1', 'jarshh95', 'jasf2510', 'jaskol95', 'jasonhuila', 'javadovvv', 'javichuela2789', 'javierruizvazquez', 'jayden5345', 'jaymemiranda', 'jchernandez84', 'jcmesafischer', 'jcurbaneja', 'jeandredr', 'jeigoth', 'jem', 'jesseinkman', 'jesusesmifuerza', 'jgauci', 'jhonnyuribe', 'jiihart', 'jimonios', 'jinrie', 'jinxy2009', 'jjbolanos', 'jjdarek', 'jjlai1111', 'jk2w', 'jlauri', 'jlf287', 'jmcadavid1998', 'jmpion', 'joaco21', 'joarprodhan', 'jobito', 'joejoe243', 'joejreusa', 'johnnyanto', 'johnwhite1952', 'jonasrath', 'jonathanchuah', 'jonkristianh', 'jopebouzy', 'jordiqc', 'jorgeferreira', 'jorlazchess', 'joseacorrea', 'joserobinson', 'josetricks', 'joshuagk27', 'josjimal', 'jovencata', 'joyspaceman', 'jo_black1990', 'jr1193', 'jraosam', 'jterminator', 'jtoth', 'juancinho', 'juandiv_chessmood', 'juaneschess_twitch', 'juanjosecapablanco', 'juanovic', 'juic5r', 'julioramirezosio', 'junhaopro', 'juniorjumper', 'juniormvl', 'juniortay', 'justin_navarro-ariza1', 'justusjbargsten', 'jwd11', 'k-nygren', 'kabegody', 'kacperkarwowski', 'kaer_morhen', 'kaizen_chess_academy', 'kale36', 'kamduki', 'kami30', 'kanalszachowy', 'karlemilelmer', 'karpovs_butler', 'kashkoosh', 'kasparovhiddenson', 'kasun_bole', 'katakuridono', 'kayamarley', 'kcfpatzer', 'keithonsky', 'kejjaj', 'kekic76', 'kerrystead', 'kesarev', 'ketrabluwos', 'khalakhanov', 'khalid_chess', 'khalifa_alhefeiti', 'khazhatulyalikhan', 'kiaanagrawal', 'kibitzingpatzer', 'kibromnnn', 'kidzchessacademy', 'kien05', 'kimjonguun2', 'king2121212', 'kinga2008', 'kingbwil', 'kingcyber19', 'kingofnovosibirsk', 'kingpanda13', 'kingrazor33', 'kingscrusher', 'kingslayer061cm', 'king_kinto', 'king_of_the_wing', 'kirillgenius', 'kivas', 'klaas1996', 'klendi', 'kmpk', 'kngopal', 'knightly_king1', 'knightmarejoker', 'knightoutpostop', 'knightpromotor', 'kobemagic', 'kogotbobra17', 'komogro', 'koncheto', 'konzip22', 'kopatych38', 'korkmaz16', 'korsolainen', 'koshkamatrioshka', 'kristy2009', 'krlence', 'krokerguy', 'krsilva', 'ksuforever', 'kubal123', 'kudo8366', 'kuenkuen1989', 'kumi29', 'kuruguru', 'kuwaitchess', 'kvaidan', 'kyrko_gamba', 'laguayabaalbizuista', 'laporfia', 'larbiben', 'larissa789', 'larissasteenbekkers', 'larsmandreassen', 'lastman106', 'latigre', 'laurent2003', 'laurents2000', 'laurin_2009', 'laurynaszaveckis', 'le-castor-faineant', 'le-koala-fou', 'leavethecannoli', 'leavethepool', 'leepday', 'leiwang680', 'leolinx', 'lepatronn', 'leplusfaible', 'lesachtal', 'letswin2', 'lewanatol', 'lhunguane', 'liebestraumen', 'life_actuary', 'lightningdragon8', 'lildoggo2007', 'limarr', 'linhaocheng', 'lionchamp', 'lionelmessifcb', 'lionking2367890', 'litemale', 'litsman', 'ljm509', 'lkb001', 'llarimarc', 'lollinope', 'londonkid', 'lonestarpawn', 'longstom', 'lord4hire', 'lordsacalot', 'lorneracosta', 'lost_monkey', 'louadasme', 'louizor', 'lovelifebro', 'loyalfighter', 'luggevoila', 'luiscez', 'luismiguelov', 'lukar07', 'lupi32', 'lutuimaamaro8889', 'luukmaestro', 'm1sho007', 'm3alam', 'macp1988', 'magicalbishop123', 'magionator', 'magnum1900', 'mahanif', 'mahmoud-s-haddad-m', 'majarimx', 'majorcoast', 'makdyr', 'maksimys18', 'malkalmardgh', 'malti', 'mananchor', 'manmish2', 'manoj_mishra123', 'manon-reja', 'manuvidu', 'manu_chessexcelsior', 'marelealb', 'mariusbieliauskas', 'marquezangel1990', 'marreuh', 'marsmol', 'marvelavengers4', 'masenik', 'masrahi', 'massakru', 'mastacticateoria', 'masterblaster_1111', 'masterdoobs', 'masterisback04', 'mastermk73', 'matapatos593', 'math3m6thic', 'math54321', 'mathiascasalaspro', 'mati2211', 'matic_nareks', 'matkens0123', 'maurijs', 'mavericksv', 'mbchess97', 'mccarthystone', 'mclean12', 'me1010', 'meeresgrund', 'mendozadavid2000', 'messerwoland', 'mestresoares', 'mestre_soares', 'meszarosgyorgy', 'mfreemannz', 'michael51106', 'michelangelo111', 'miep2', 'migeira', 'mightymike_009', 'mightysmasher', 'miguelbestard1981', 'migueleduardogb', 'miguelitro69', 'mijuanreyesrosa', 'mikhailpanin', 'mikromurks', 'milignus', 'milovichalex', 'miluis', 'mim06', 'mindprogress732', 'miocardiocito', 'miserableplayer4', 'mismaly', 'misterjozi', 'misteryesno', 'mistheoretical', 'misticpikachu', 'mjelcic', 'mlamba', 'mmahdi2013', 'mnyuyu', 'mohamed-almado', 'mohamed-damaj', 'mohammednx111', 'mohssenbinaddi', 'moiphatlakanyi', 'moisesanto', 'monkeycmonkey', 'monluis', 'monster-ratata', 'monsterenergy2022', 'montanez', 'morozcoma', 'morralover', 'mostafa_sakha', 'mostii', 'mouse-sleep', 'mozartus88', 'mozartus9', 'mranonymaster', 'mrbye07', 'mrdemir', 'mrescacs', 'mrkooshachess_twitch', 'mrlammy', 'mrlion3000', 'mrniceplay', 'mrpedegru25', 'mr_lion22', 'muaythaistyle', 'muhittinbuker', 'mukhriez1676', 'muryo-kusho', 'musatwesky', 'mvm2008', 'myleoclub', 'mzeelaa', 'nacirizouhair', 'naisortep', 'nakasson', 'nakimurastur', 'namir131313', 'narek_ghimoyan', 'narigoncompadre', 'naruto75_3', 'narutosmith', 'natovi77', 'na_binci', 'nbanob', 'nechitaylo_nikita', 'neldus123', 'nelsoncopa', 'nelsonlinda', 'nemonescio', 'neonninja73', 'nerv', 'nerzgul', 'newchesscorner64', 'nezh2', 'nfogaras', 'nguyenhlb', 'nicegg', 'nicky1405', 'nicolassrc', 'nicolas_chess10', 'nigirisushies', 'niilo1', 'nikavolkov', 'nikfil2013', 'nikitadovbnya2008', 'nikitarychagov', 'ninjatrick', 'niraj619', 'niteshch', 'niu9988', 'nivra4300971', 'nj123456', 'nmd0402', 'noeladricula', 'norwaytoadog', 'notthebishopsacrifice', 'nottodaysir', 'novakratko', 'novocane', 'nowinchess', 'nutflush', 'nwchess2016', 'nz_trains', 'obispus', 'octoberbreeze', 'ofgameron', 'ogpin', 'ogreberbere', 'ohajek96', 'ojevwe', 'oldnewapproach', 'oldterminator', 'olgoi-khorkhoi', 'olliear', 'omk124', 'onetowin', 'onlyflagnoskill', 'onthequiet', 'onurcinarengin7', 'onwgs', 'oogwaygetsgirls127', 'optimusprimebr', 'orangepelt', 'orishuas', 'orujov_2008', 'os55555', 'osh1ro', 'osoriofernando', 'otrov-11', 'overman1', 'overschat', 'oxygen64', 'ozen_metehan', 'ozimov13', 'p10neer', 'pabilo86', 'pabloadrobruquez', 'paff_morris_twitch', 'pancontomate12', 'pantata007', 'panterov', 'papipapita', 'paradise10', 'parajuli_rajendra', 'pariasortega', 'parkas', 'patagonico2020', 'patently_parochial_panda', 'patrisiii123', 'patzersame', 'paulofanha', 'pawnpusher1245', 'pawnpusherschessaccademy', 'pchelkinvk', 'peace_power', 'pebblespeanutcashew', 'pedrosuarez', 'pegaso529', 'pendragon619', 'perdomov', 'pertinhez76', 'pesaruba', 'peternsw', 'petrsoucek', 'pgrj', 'philekhoob', 'phriex', 'phurba13', 'piccadilly123', 'pinasoprano', 'pinkball12', 'piotreek2010', 'piotrold', 'piscatorox', 'pitopitocuatro', 'pizavolio', 'playforwinalways', 'play_everybody', 'plymouthargyle', 'pma83', 'pokochajszachy', 'pollitochicken', 'pomberito2', 'pomeziachess', 'powerchessutah', 'ppupkin', 'practical-play', 'practicemakesperfect90', 'prakharbajaj21', 'precisepatzer', 'primegiroud', 'probablybad04', 'profedechess93', 'promiseland123', 'pseudobenk0', 'psychokiller48', 'psychonerd5', 'pudor', 'pullakuski', 'puru33x', 'purusottamchaulagain', 'pushdapawn', 'puz2010', 'puzzlebot_1294', 'qdlatyzg', 'qglen', 'qingdom', 'qowcrazy', 'queenzlander60', 'queladri', 'quvnoq_muxlis', 'qwe69', 'qwerasdf8008', 'r2d2pty', 'rachidhuilda', 'racquetball1', 'raem25', 'rafaelcorado', 'rafalbrc', 'rainer59k', 'rajesh1464', 'rajeshbb', 'rakitic2010', 'raleuzirb', 'ralnsy', 'rambo1stblood', 'random_mango', 'raneshratnesan', 'rantomopening', 'ranu540', 'ranveerrjn', 'rapidoylancero', 'raskolnikov6', 'rasool78', 'rat20005', 'rau4ever', 'raud100', 'raugintabulba', 'rcone', 'realburq', 'real_sp00f', 'rebeljohnny', 'redfirepanda', 'reevecanada', 'regex27', 'reggaeknight', 'reinaldor', 'rekin87', 'relocoelro', 'remcospr', 'remuloaguiarfreitas', 'renansoares1972', 'renedube', 'resourchess', 'respectfuldaveonyoutube', 'revivingheart', 'rgoltsman', 'rhesh29', 'rhinos1', 'rhrt', 'riccardo_alaimo', 'richard_zweifel', 'richied2601', 'ridnani1', 'rigbychess', 'riku-gan', 'rionelg', 'rjra94', 'rkracht', 'rks4g', 'rloriogcf', 'roaring_lion23', 'robertoalejandro10', 'robertorochamao', 'robertosuardi', 'robertprieb2007', 'robin_ahmedmahatab', 'robin_mahatab', 'rocket10jan', 'rodriqa', 'roedor', 'rogeliooscarsanchezb', 'roland_garros_2024', 'roldieyi', 'romanherrmann', 'romster06', 'ron_weasley_chess', 'rosraev', 'royalhogs', 'rtchess367', 'rubenulaneo', 'rugbyclub', 'ruleoftwo', 'runsearc', 'ruslan_0807', 'russian_berezka', 'russlo', 'ruzigura', 'rvmalg', 'ryyuzh', 's4p0ud', 'sacrifice', 'safyahmadkanz', 'saif_malek04', 'salgadolo', 'saltkettle', 'saltyrook-7', 'salzburg1756', 'samidescalona2002', 'sammysquires', 'samuraisofchess', 'samvel_chessmate', 'sanbruh', 'sandro970', 'sandro_mikanovic', 'santig8', 'sanyukina', 'sarajkov', 'sashakuzhilniy', 'sasha_solovev_777', 'satoshi95', 'satr51pr', 'savelli60', 'savinspm', 'sawkitoo', 'sayonaraboy96', 'sbellinc', 'sboshaon21', 'sbouchet', 'schachkatze2000', 'schachmalanders', 'schachpanda_youtube', 'schmelzberg', 'schoenbrunn', 'schwindelaar', 'scrambled_36421', 'seal_island_puffin', 'sean1223', 'seanyearwood', 'seanyearwood18', 'seasidesunset', 'sebazzano', 'secrethawk1', 'segonbermuda', 'selapegoacualquiera', 'seoulserenity', 'sergioangel74', 'sernini', 'sertas', 'sertoespj', 'shadhur_chess', 'shahdad2007', 'shahmatkanal', 'shailendrabajpai', 'shanemelaughcm', 'sharkaholic', 'shiki_chess', 'shiner22', 'shirovin', 'shootnik64', 'shreyansshah123', 'shuvalov', 'shymek', 'siberian_husky_chess', 'siiiiii1', 'silencerbaba', 'simoncelli15', 'sinsyubgon', 'sirheltaskelta', 'sirinbaba33', 'sjakkerntobi', 'sjtsjogoljev', 'skhanyisopersivaal', 'skillcam', 'skills94', 'skippinglaptop', 'skslaviaorlova', 'sky-net', 'sledjo12', 'sleeping_in_the_fire', 'slidingknight2775', 'slimshady', 'slovafn', 'slovenskizmaj', 'smealow', 'smexov', 'smiechu', 'smittenlava', 'sm_sharon', 'sobzahmati', 'sodastream007', 'solidj', 'soltan49', 'solverzs', 'sonicdravise', 'speed-o-sonic', 'speeddemon001', 'spellingchecker', 'spicy_spassky', 'spocksy', 'squash_1', 'squishey', 'srchesschilango', 'stackstorm', 'stalyansky', 'stanbad1', 'stargazer2003', 'starkynz', 'statham', 'statsmasternz', 'stefanoskazantzoglou', 'stegariuvlad', 'steinerpro12', 'stepanosinovsky', 'stephan97', 'stephenajwhatley', 'stephenfan', 'sting2010', 'stollenmonster', 'stormgiant58', 'strange3333', 'stratacticos', 'strong_prodigy', 'stuffings101', 'stupeas', 'subbi64', 'succenna', 'suleymanontwitch', 'sultaic', 'superboemer', 'superchess2015', 'superitalo13', 'supermagnum', 'supermoli2300', 'supzuroke', 'surprisewithsacrifice', 'surrenderpls', 'suundalaisumberuul', 'svet_1502', 'sydneycarton97', 'szachulec75', 'tabarex', 'tacticalsam94', 'taglit', 'taildeitali', 'talsian', 'talyamania', 'tangerinealex', 'taran2004', 'tastyfrenchfries', 'tavi001', 'taylanruzgar', 'teamempire', 'templovillamarin', 'tenchess28', 'tenorespinto', 'teran05', 'teratera13', 'terex11', 'tgpgoat', 'thaboelias8', 'thanhnghia', 'thaur', 'thaytoancovua', 'the-do0on', 'thebear214', 'thebeast2900', 'thebraincrusher', 'thebulldog1', 'thecairnterrier', 'thecastlehunter', 'thechessnoob12345', 'thecourseoisildur', 'thefirechess', 'thegreatauk', 'thelyingdutchmen', 'themachine123lamaqui', 'themightybishops', 'thenile', 'theonetrapman', 'thepeasant98', 'theproguy88', 'thesodabread', 'thezendo', 'the_gavriely_variation', 'the_great_kratos', 'the_sneaky_weasel', 'thisjuan', 'thisunaa', 'thmester', 'thomaslegend', 'thork', 'threemind', 'thucanh', 'tiborio', 'tikhon_popov', 'timurdushatov', 'tinka9998', 'tiradini007', 'titarovvasiliyoutube', 'tntanggg', 'tolyanius', 'tomesao', 'tomkdaskrtz', 'tommygear1', 'tomobeast', 'tonydavis123', 'topce', 'torsten64', 'totsukablade', 'trainer1957', 'tralipton', 'tranthanhtu', 'travelingwchess', 'trevorxp', 'trickster_fam', 'trollzaya', 'truecagnusmarlsen', 'tuatara', 'tulinius_jensen', 'tungnguyenlam', 'turbosteen', 'turquoise_2701', 'twx4', 'u2ro', 'u335394862', 'ubertyce', 'udithj22', 'uggm_manuel', 'unbreakablepawn35', 'univio', 'unskibidirizzler11', 'unstoppable_dragon', 'usbista', 'vacheh009', 'vagliosagan', 'vagoff', 'vaibhavraut99', 'vakaspa', 'valparaiso37', 'vanderbruggen', 'vanvurel', 'vaporwaffle94', 'varinius', 'ved1703', 'vehe', 'ventdelest', 'vi11603', 'viciousseal', 'victorfcqnk', 'victoryches1407', 'victor_0liveira', 'victurillu', 'vinodbhagwat1976', 'vinodchess1981', 'viruschidai', 'visa', 'vishbutnotanand', 'vishwa_vijeta', 'vjecspec', 'vladyc', 'vonechess', 'voronbs', 'vovachesss', 'vozlo', 'vqquyencft', 'vtb-81', 'warmachine77', 'warotkananub', 'waspofborneo', 'watermelonattackk', 'weakandslowchess', 'weebwithme', 'welwitchia5', 'werkagabi', 'whitechocolate04', 'wiktoriapol', 'williembarreto', 'witty_alien', 'wohen2', 'wolfbaobaolang', 'wongyc', 'wookash888', 'worldclass80', 'wqws', 'xadrezparaense', 'xarthos', 'xh4823', 'xhembulla', 'xiaokangzhong', 'xiaqiabc1', 'xxpetroffsxx', 'y3b4', 'yahisalem', 'yan_dyomin2010', 'yarikov_artem', 'yaristan92', 'yas1365', 'yasminmaximmy', 'yawnpawn', 'yesilikeorangejuice', 'yessssssdooooothat', 'yeytruyol', 'yifeihu2012', 'ymbi', 'yoelpolanco', 'yolosz', 'yonaltimur', 'youbenchmorethanme', 'youngdinousaur', 'younix2022', 'youpod', 'ystp_09', 'yudai0515', 'yurasovmat-2012', 'zallio', 'zano2023', 'zapheiri', 'zechimarlon', 'zeck_ch', 'zeitnot593', 'zenbull', 'zenekritikus04', 'zenithhikaru', 'ziga87', 'ziyamammadov', 'zorro1977', 'zugzwang1201', 'zverr1']}\n"
     ]
    }
   ],
   "source": [
    "\n",
    "from chessdotcom import get_titled_players\n",
    "\n",
    "# List of titled player types\n",
    "titles = [\"GM\", \"IM\", \"FM\", \"CM\"]\n",
    "\n",
    "# Dictionary to store the results\n",
    "titled_players_data = {}\n",
    "\n",
    "# Loop through each title and get the corresponding players\n",
    "for title in titles:\n",
    "    response = get_titled_players(title).json\n",
    "    titled_players_data[title] = response\n",
    "\n",
    "# Save the combined data to a JSON file\n",
    "with open(\"multiple_titled_players.json\", \"w\") as file:\n",
    "    json.dump(titled_players_data, file, indent=4)\n",
    "\n",
    "print(response)\n"
   ]
  },
  {
   "cell_type": "markdown",
   "metadata": {},
   "source": [
    "### Creating Data Frame"
   ]
  },
  {
   "cell_type": "code",
   "execution_count": 59,
   "metadata": {},
   "outputs": [
    {
     "name": "stdout",
     "output_type": "stream",
     "text": [
      "Title                                                                                                                                                                                                                                                                                                                                                                                                                                                                                                                                                                                                                                                                                                                                                                                                                                                                                                                                                                                                                                                                                                                                                                                                                                                                                                                                                                                                         Username\n",
      "   GM [0blivi0usspy, 123lt, 124chess, 1977ivan, 1stsecond, 4thd-alpeacefulmoon, a-adly, a-fier, abasovn, abbasifarhassan, abbasovfarid1979, abdimalik_abdisalimov, abhidabhi, abhijeetgupta, abhijeetgupta1016, abhijeetonyoutube, abhyak, absentzest, abykhovsky, aceontheturn, adaro, adham_fawzy, adiosabu, adotand, afgano29, aggy67, agser, ahmadzadaa, ahmad_alkhatib11, airgun1, akshatchandra, akshayraj_kore, alefedorov, aleksa74, aleksandrovaleksei, aleksey_sorokin, alexander-evdokimov, alexanderl, alexander_donchenko, alexander_moskalenko, alexander_zubov, alexandr_predke, alexchess1062, alexchess1984, alexcolovic, alexeishirov, alexei_kornev, alexhuzman, alexonischuk, alexrustemov, alexsur1981, alexvangog, alexyermo, alex_goloshchapov, alex_stripunsky, algeriano22, alieraiseafireoozeuh, alishersuleymenov, allanstig, allstarserious, almo64, alpacacheck, alphaodin, alrayyan2022, alrayyan2024, aman, amintabatabaei, amir-zaibi, amirbagheri78, amirreza_p, anaconda1983, anand, ancarmaran, andabata, andrbaryshpolets, andreikka, andrei_belozerov, andrejs_sokolov, andreystukopin, androqueen, andyrodri, angelogm, angry_twin, anishgiri, anishonyoutube, ankit_chessneurons, annawel, anna_muzychuk, anon219, anthonywirig, antipov_mikhail_al, antonshomoev, antonsmirnov, anton_demchenko, anuar_is, anurag328, aoitsukibluemoon, apocalyps999, aquarium76, aradej, ...]\n",
      "   IM                                              [0gzpanda, 11kevin, 1e41-0, 1przemyslaw1, 1scaramouche1, 2bf41-0, 2krk1, 2ktngo, 60minban, 72hitman72, 7hanat, aa175, aaaao, aariow, aaron080803, abdoabedov, abdulovorkhan, abdurakhmanovvvv, abduzhaparov, abechahrour, abikor, abruptum, abu_tyven_fra_bagdad, acciochess, acostapablo, adamhunt1, adar_07, adityakudeshi, adriangschnitzer, adrianpetrisor1992, adricalderon8, adypady02, aemeffi, afterbite, aghasiyevkamal, agibileg, ahmadzada13, aidnet, aikiigm, ainahia, airquake, ajdemipopushi, ajedrecista3000, ajedrezcapablanca, ajedrezencantabria, ajedrezenmadrid, ajedrezhn, ajedrezhoy, akewjon, akiba63, akrus, akshatkhamparia, albertochueca, albi1999, aldokhinivan, alejandromateo21, alejandromontalvo, alekroth65, aleks45, aleksanderhnydiuk, aleksandraleksikov, alekseyviktorovich, alenee, alex-11211, alex1927, alexander_kachko, alexander_khlebovich, alexbarton, alexbattey, alexey_potapov, alexkundin, alexostrovskiy, alexrtoronto, alextriapishko, alextruskavetsky, alex_32167, alex_banzea, alex_belezky, alex_krayz, aliba25, aliencowboy, alienonanotherplanet, alihanhuseyinoglu, alika2810, alimentor20, alinalami, aljoschafeuerstack, alleyooper, almasrakhmatullaev, almatyonelove, almiras, almostright, alniro4, alomaterapia, alonmindlin, alonyoavk, alpasya2009, alqudaimi, alternativfacts, al_bundy_83, ...]\n",
      "   FM                                                                                                                                                                                            [01roman, 03revilo, 05-828-ei, 0815original, 11aresss, 14sokol88, 16wise, 1800_strength, 1g60-1, 1mbl4, 1moodyman1, 1nf3_fan, 1nikolachess, 2008king, 21catch22, 2400fm, 26andrej26, 2900tactinhos, 2coaches1profile, 2killer2, 3sp15-2, 46tumtrah, 4e4ako, 4rs, 50tugrik, 6262i, 6packplayer, 7-the_dragon-7, 7madman, a-druckenthaner, a4rooka3, aa95, aaruaaka, aash20, ab-lsv, abbas99kh, abdalagathos, abdelazeez-m, abdualbadani1973, abeljusto, abetaneli, abubakrtagelsir, ac130-ghostrider, acer316, ach19, achilleheel, acsintematei, acva-alenok, adalberti, adapodadei, adekrisna123, adel1991, adel991, adic2020, adidchess, adjorno, admirale, adnan_nn, adodove, adrivillu, advanceguard4, adventurouscat, adwilhans, aeiiuu, aevengho, aexmi, affleckkgb, afrimfejzullahu, afshar-110, afurozamurai, agapov771, agartha01, agentxya, agilpirverdiyev777, agnes66678, agoking701, aguiar94, agustinv04, agus_k, agvega14, agw2016, ahkashefi2800, ahmadalrahely9999, ahmadnajjarchess, ahmedabdulsattar, airopito7, aisen1011, aistrel, aizrawjath, ajeale2, ajedrezdesilicio, ajedrezmf2022, ajedrezsinlimites, ajedrez_con_german, ajeossi94, ajkom197, ajsc02, akarsalih, akashcheck, akhayan, ...]\n",
      "   CM                                  [19andi73, 1b31-0, 1c4_1-0, 1gelm9ister, 2007checkmate, 20ofjuly, 21osakat, 2sks, 2typicalchessplayer, 5sight, a3aki, aanshnerurkar, aaponter, abbesali, abc_xyz4744, abelmat, abigailcabezas, abinesh12345, abrab_64, abuhanan, acertijo08, achalachess, acollins05, actuary44, adchek, adnan_habib, adreyd, adrian-thorsen, adrian_g19, advancedrook, advicecabinet, aguscm2018, agustin_meza, ahmedkandiliii, ahmedotaleb, ajedrez-facil, ajedrez1101, ajedrezinteligente, akanga001, akatsukiloghorizon, akhairat, akhandbharatkijay, akinov-akinseye, aklan10n, albert_kloc, alblooshi_hamad, albussevrespotter, aldebaran52, aldobaral56, alejanchess73, alejandrobalde, alejandrocapanegra, alejandropacheco29, aleksandar-topalov, alexandercs432, alexandrehouhou, alexjr20, alexppixe, alex_jose_iraeta, alex_yang, alfiefischer77, algatar2020, alisuma, alivodicdario, almaguerjm, aln276, alohamora11, alphagoosee, alphazero-31, alu40pink, alvarorodriguezavila, al_sa_co, amadeus17, amanjazu, amazingalbany, ambartsumiantyhran2012, aminazinas, amithpal, amithpal64, ammarzooqi, amr05mj, anadar, andrei_skvortsov, andrew-fb00, andrewdgreen, andrey-ivanov2011, andrzej, anirban_73, anonymouschessenjoyer, anonymouskiller0101, anskam, ansko1999, ansukam, antek_radzimski, aot317, aplommb, apotatointhekitchen, aragon, aries_joseph, arimin1329, ...]\n"
     ]
    }
   ],
   "source": [
    "data_usernames = []\n",
    "for title, players in titled_players_data.items():\n",
    "    for player in players:\n",
    "        data_usernames.append({\"Title\": title, \"Username\": players[player]})\n",
    "\n",
    "df = pd.DataFrame(data_usernames)\n",
    "print(df.to_string(index=False))"
   ]
  },
  {
   "cell_type": "markdown",
   "metadata": {},
   "source": [
    "### Data Frame Analysis"
   ]
  },
  {
   "cell_type": "code",
   "execution_count": 66,
   "metadata": {},
   "outputs": [
    {
     "name": "stdout",
     "output_type": "stream",
     "text": [
      "General Information:\n",
      "<class 'pandas.core.frame.DataFrame'>\n",
      "RangeIndex: 4 entries, 0 to 3\n",
      "Data columns (total 3 columns):\n",
      " #   Column          Non-Null Count  Dtype \n",
      "---  ------          --------------  ----- \n",
      " 0   Title           4 non-null      object\n",
      " 1   Username        4 non-null      object\n",
      " 2   Username_Count  4 non-null      int64 \n",
      "dtypes: int64(1), object(2)\n",
      "memory usage: 224.0+ bytes\n",
      "None\n",
      "\n",
      "Title\n",
      "CM    1620\n",
      "FM    3700\n",
      "GM    1577\n",
      "IM    2193\n",
      "Name: Username_Count, dtype: int64\n"
     ]
    }
   ],
   "source": [
    "print('General Information:')\n",
    "print(df.info(verbose=True, ))\n",
    "print()\n",
    "\n",
    "# Number of username for each title\n",
    "df['Username_Count'] = df['Username'].apply(len)\n",
    "# Group by Title and sum the counts\n",
    "title_counts = df.groupby('Title')['Username_Count'].sum()\n",
    "print(title_counts)\n"
   ]
  },
  {
   "cell_type": "code",
   "execution_count": null,
   "metadata": {},
   "outputs": [],
   "source": []
  }
 ],
 "metadata": {
  "kernelspec": {
   "display_name": "Python 3",
   "language": "python",
   "name": "python3"
  },
  "language_info": {
   "codemirror_mode": {
    "name": "ipython",
    "version": 3
   },
   "file_extension": ".py",
   "mimetype": "text/x-python",
   "name": "python",
   "nbconvert_exporter": "python",
   "pygments_lexer": "ipython3",
   "version": "3.10.12"
  }
 },
 "nbformat": 4,
 "nbformat_minor": 2
}
