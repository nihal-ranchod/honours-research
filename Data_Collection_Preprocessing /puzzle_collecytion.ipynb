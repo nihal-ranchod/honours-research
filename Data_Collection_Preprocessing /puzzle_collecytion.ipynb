{
 "cells": [
  {
   "cell_type": "markdown",
   "metadata": {},
   "source": [
    "# Chess Puzzle Collection and Preprocessing\n",
    "\n",
    "### Obtaining PGN game data of a randomly picked daily puzzle"
   ]
  },
  {
   "cell_type": "code",
   "execution_count": 35,
   "metadata": {},
   "outputs": [],
   "source": [
    "import json\n",
    "import pandas as pd"
   ]
  },
  {
   "cell_type": "markdown",
   "metadata": {},
   "source": [
    "Using Chess.com API endpoint: `get_random_daily_puzzle` to get PGN game data for chess puzzles."
   ]
  },
  {
   "cell_type": "code",
   "execution_count": 36,
   "metadata": {},
   "outputs": [
    {
     "name": "stdout",
     "output_type": "stream",
     "text": [
      "Fetched and saved 1000 puzzles.\n"
     ]
    }
   ],
   "source": [
    "import json\n",
    "import time\n",
    "from chessdotcom import get_random_daily_puzzle\n",
    "\n",
    "puzzles = []\n",
    "\n",
    "# Fetch 1000 random puzzles\n",
    "for i in range(1000):\n",
    "    response = get_random_daily_puzzle().json\n",
    "    puzzles.append(response)\n",
    "    time.sleep(1)  # Add a 1-second delay between requests\n",
    "\n",
    "with open(\"puzzles.json\", \"w\") as file:\n",
    "    json.dump(puzzles, file, indent=4)\n",
    "    \n",
    "\n",
    "print(f\"Fetched and saved {len(puzzles)} puzzles.\")\n"
   ]
  },
  {
   "cell_type": "markdown",
   "metadata": {},
   "source": [
    "Cleaning puzzle data by removing unnecessary fields."
   ]
  },
  {
   "cell_type": "code",
   "execution_count": 37,
   "metadata": {},
   "outputs": [],
   "source": [
    "# Fields to remove\n",
    "fields_to_remove = ['comments', 'url', 'publish_time', 'image']\n",
    "\n",
    "# Iterate over each puzzle entry and remove the specified fields\n",
    "for puzzle_entry in puzzles:\n",
    "    puzzle = puzzle_entry['puzzle']\n",
    "    for field in fields_to_remove:\n",
    "        puzzle.pop(field, None)  # Safely remove the field if it exists\n",
    "\n",
    "# Output the modified data\n",
    "with open(\"puzzles_cleaned.json\", \"w\") as file:\n",
    "    json.dump(puzzles, file, indent=4)"
   ]
  },
  {
   "cell_type": "markdown",
   "metadata": {},
   "source": [
    "Removing duplicates."
   ]
  },
  {
   "cell_type": "code",
   "execution_count": 38,
   "metadata": {},
   "outputs": [],
   "source": [
    "# Set to track unique titles\n",
    "unique_titles = set()\n",
    "unique_puzzles = []\n",
    "\n",
    "# Filter out puzzles with duplicate titles\n",
    "for puzzle_entry in puzzles:\n",
    "    title = puzzle_entry['puzzle']['title']\n",
    "    if title not in unique_titles:\n",
    "        unique_puzzles.append(puzzle_entry)\n",
    "        unique_titles.add(title)\n",
    "\n",
    "# Write the unique puzzles to a new JSON file\n",
    "with open(\"unique_puzzles.json\", \"w\") as file:\n",
    "    json.dump(unique_puzzles, file, indent=4)"
   ]
  }
 ],
 "metadata": {
  "kernelspec": {
   "display_name": "Python 3",
   "language": "python",
   "name": "python3"
  },
  "language_info": {
   "codemirror_mode": {
    "name": "ipython",
    "version": 3
   },
   "file_extension": ".py",
   "mimetype": "text/x-python",
   "name": "python",
   "nbconvert_exporter": "python",
   "pygments_lexer": "ipython3",
   "version": "3.10.12"
  }
 },
 "nbformat": 4,
 "nbformat_minor": 2
}
